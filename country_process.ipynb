{
 "cells": [
  {
   "cell_type": "markdown",
   "metadata": {},
   "source": [
    "# Country Processing for Smoke Mortality Analysis\n",
    "\n",
    "This notebook processes country-level data to calculate death rates by geographic location. It maps death rates to a global grid that can be used in smoke mortality calculations.\n",
    "\n",
    "## Data Requirements\n",
    "\n",
    "This notebook requires the following data files in the `./data/` directory:\n",
    "- `ne_110m_admin_0_countries.shp`: Natural Earth shapefile with country boundaries\n",
    "- `death_rate.xlsx`: Excel file containing death rates by country\n",
    "- `ssp2_2050_matching.nc`: NetCDF file with population projections\n",
    "\n",
    "The notebook will output:\n",
    "- `death_rate.nc`: NetCDF file with death rates mapped to a global grid"
   ]
  },
  {
   "cell_type": "code",
   "execution_count": 9,
   "metadata": {},
   "outputs": [],
   "source": [
    "import pandas as pd\n",
    "from shapely.geometry import Point, Polygon\n",
    "from cartopy.io.shapereader import Reader\n",
    "import cartopy.io.shapereader as shpreader\n",
    "import cartopy.crs as ccrs\n",
    "from rapidfuzz import process\n",
    "import xarray as xr\n",
    "import matplotlib.pyplot as plt\n",
    "import numpy as np\n",
    "import os\n",
    "import sys"
   ]
  },
  {
   "cell_type": "markdown",
   "metadata": {},
   "source": [
    "## Setup Data Directory\n",
    "\n",
    "Check if the data directory exists and contains required files."
   ]
  },
  {
   "cell_type": "code",
   "execution_count": 10,
   "metadata": {},
   "outputs": [],
   "source": [
    "# Define the data directory relative to the notebook location\n",
    "data_dir = './smoke_data'\n",
    "\n",
    "# Check if data directory exists\n",
    "if not os.path.exists(data_dir):\n",
    "    print(f\"Error: Data directory '{data_dir}' not found.\")\n",
    "    print(\"Please create a 'data' directory in the same location as this notebook and add the required data files.\")\n",
    "    required_files = ['ne_110m_admin_0_countries.shp', 'death_rate.xlsx', 'ssp2_2050_matching.nc']\n",
    "    print(f\"Required files: {', '.join(required_files)}\")\n",
    "    # Uncomment the line below if you want the notebook to stop execution when data is missing\n",
    "    # sys.exit(1)"
   ]
  },
  {
   "cell_type": "markdown",
   "metadata": {},
   "source": [
    "## Helper Functions\n",
    "\n",
    "Define functions to process geographic data and fix longitude coordinates."
   ]
  },
  {
   "cell_type": "code",
   "execution_count": 11,
   "metadata": {},
   "outputs": [],
   "source": [
    "def fix_lon(ds):\n",
    "    \"\"\"Adjust longitude values to ensure they are within (-180, 180) range.\n",
    "    \n",
    "    Parameters:\n",
    "        ds (xarray.Dataset): Dataset with longitude coordinates\n",
    "        \n",
    "    Returns:\n",
    "        xarray.Dataset: Dataset with adjusted longitude coordinates\n",
    "    \"\"\"\n",
    "    lon_name = 'lon'  # whatever name is in the data\n",
    "\n",
    "    # Adjust lon values to make sure they are within (-180, 180)\n",
    "    ds['_longitude_adjusted'] = xr.where(\n",
    "        ds[lon_name] > 180,\n",
    "        ds[lon_name] - 360,\n",
    "        ds[lon_name])\n",
    "\n",
    "    # reassign the new coords to as the main lon coords\n",
    "    # and sort DataArray using new coordinate values\n",
    "    ds = (\n",
    "        ds\n",
    "        .swap_dims({lon_name: '_longitude_adjusted'})\n",
    "        .sel(**{'_longitude_adjusted': sorted(ds._longitude_adjusted)})\n",
    "        .drop(lon_name))\n",
    "\n",
    "    ds = ds.rename({'_longitude_adjusted': lon_name})\n",
    "    return ds"
   ]
  },
  {
   "cell_type": "code",
   "execution_count": 12,
   "metadata": {},
   "outputs": [],
   "source": [
    "# Function to find the country by lat, lon and return the death rate\n",
    "def get_death_rate(df, lat, lon, shapefile):\n",
    "    \"\"\"Find the country at a given lat/lon and return its death rate.\n",
    "    \n",
    "    Parameters:\n",
    "        df (pandas.DataFrame): DataFrame containing country death rates\n",
    "        lat (float): Latitude\n",
    "        lon (float): Longitude\n",
    "        shapefile (cartopy.io.shapereader.Reader): Shapefile reader with country boundaries\n",
    "        \n",
    "    Returns:\n",
    "        float: Death rate for the country at the given coordinates, or 0 if no country found\n",
    "    \"\"\"\n",
    "    # Create a Point object for the given lat/lon\n",
    "    point = Point(lon, lat)\n",
    "    \n",
    "    # Iterate over the countries' geometries to find the country\n",
    "    for country_record in shapefile.records():\n",
    "        country_name = country_record.attributes['NAME']\n",
    "        country_geom = country_record.geometry\n",
    "        # If point is within the country's polygon, return the death rate\n",
    "        if country_geom.contains(point):\n",
    "            # Use rapidfuzz to get the closest match country name\n",
    "            closest_country, score, b = process.extractOne(country_name, df['Country Name'])\n",
    "            if score > 80:  # ensure reasonable match threshold\n",
    "                death_rate = df.loc[df['Country Name'] == closest_country, 'Death Rate'].values[0]\n",
    "                return death_rate\n",
    "    return 0  # If no country found"
   ]
  },
  {
   "cell_type": "markdown",
   "metadata": {},
   "source": [
    "## Load Data\n",
    "\n",
    "Load the required data files: country shapefile, death rates, and population projections."
   ]
  },
  {
   "cell_type": "code",
   "execution_count": 13,
   "metadata": {},
   "outputs": [
    {
     "name": "stdout",
     "output_type": "stream",
     "text": [
      "Successfully loaded shapefile from ./smoke_data/ne_110m_admin_0_countries.shp\n"
     ]
    }
   ],
   "source": [
    "# Load the world shapefile (admin boundaries)\n",
    "shapefile_path = os.path.join(data_dir, 'ne_110m_admin_0_countries.shp')\n",
    "try:\n",
    "    shapefile = Reader(shapefile_path)\n",
    "    print(f\"Successfully loaded shapefile from {shapefile_path}\")\n",
    "except Exception as e:\n",
    "    print(f\"Error loading shapefile: {e}\")\n",
    "    print(f\"Please ensure '{shapefile_path}' exists and is a valid shapefile.\")"
   ]
  },
  {
   "cell_type": "code",
   "execution_count": 14,
   "metadata": {},
   "outputs": [
    {
     "name": "stdout",
     "output_type": "stream",
     "text": [
      "Successfully loaded death rate data from ./smoke_data/death_rate.xlsx\n"
     ]
    },
    {
     "data": {
      "text/html": [
       "<div>\n",
       "<style scoped>\n",
       "    .dataframe tbody tr th:only-of-type {\n",
       "        vertical-align: middle;\n",
       "    }\n",
       "\n",
       "    .dataframe tbody tr th {\n",
       "        vertical-align: top;\n",
       "    }\n",
       "\n",
       "    .dataframe thead th {\n",
       "        text-align: right;\n",
       "    }\n",
       "</style>\n",
       "<table border=\"1\" class=\"dataframe\">\n",
       "  <thead>\n",
       "    <tr style=\"text-align: right;\">\n",
       "      <th></th>\n",
       "      <th>Country Name</th>\n",
       "      <th>Death Rate</th>\n",
       "    </tr>\n",
       "  </thead>\n",
       "  <tbody>\n",
       "    <tr>\n",
       "      <th>0</th>\n",
       "      <td>Aruba</td>\n",
       "      <td>11.084000</td>\n",
       "    </tr>\n",
       "    <tr>\n",
       "      <th>1</th>\n",
       "      <td>Africa Eastern and Southern</td>\n",
       "      <td>7.857561</td>\n",
       "    </tr>\n",
       "    <tr>\n",
       "      <th>2</th>\n",
       "      <td>Afghanistan</td>\n",
       "      <td>6.906000</td>\n",
       "    </tr>\n",
       "    <tr>\n",
       "      <th>3</th>\n",
       "      <td>Africa Western and Central</td>\n",
       "      <td>10.281307</td>\n",
       "    </tr>\n",
       "    <tr>\n",
       "      <th>4</th>\n",
       "      <td>Angola</td>\n",
       "      <td>7.863000</td>\n",
       "    </tr>\n",
       "  </tbody>\n",
       "</table>\n",
       "</div>"
      ],
      "text/plain": [
       "                  Country Name  Death Rate\n",
       "0                        Aruba   11.084000\n",
       "1  Africa Eastern and Southern    7.857561\n",
       "2                  Afghanistan    6.906000\n",
       "3   Africa Western and Central   10.281307\n",
       "4                       Angola    7.863000"
      ]
     },
     "metadata": {},
     "output_type": "display_data"
    }
   ],
   "source": [
    "# Load death rate data\n",
    "death_rate_path = os.path.join(data_dir, 'death_rate.xlsx')\n",
    "try:\n",
    "    death_df = pd.read_excel(death_rate_path)\n",
    "    print(f\"Successfully loaded death rate data from {death_rate_path}\")\n",
    "    # Display the first few rows to verify the data\n",
    "    display(death_df.head())\n",
    "except Exception as e:\n",
    "    print(f\"Error loading death rate data: {e}\")\n",
    "    print(f\"Please ensure '{death_rate_path}' exists and is a valid Excel file.\")"
   ]
  },
  {
   "cell_type": "code",
   "execution_count": 15,
   "metadata": {},
   "outputs": [
    {
     "name": "stdout",
     "output_type": "stream",
     "text": [
      "Successfully loaded population data from ./smoke_data/ssp2_2050_matching.nc\n"
     ]
    },
    {
     "name": "stderr",
     "output_type": "stream",
     "text": [
      "/var/folders/g9/z04gd5q11kv9sb76x89g7zym0000gp/T/ipykernel_25604/2969152750.py:24: DeprecationWarning: dropping variables using `drop` is deprecated; use drop_vars.\n",
      "  .drop(lon_name))\n"
     ]
    }
   ],
   "source": [
    "# Load population data\n",
    "pop_path = os.path.join(data_dir, 'ssp2_2050_matching.nc')\n",
    "try:\n",
    "    pop_nc = xr.open_dataset(pop_path)\n",
    "    pop_nc = fix_lon(pop_nc)\n",
    "    lats = pop_nc['lat'].values\n",
    "    lons = pop_nc['lon'].values\n",
    "    print(f\"Successfully loaded population data from {pop_path}\")\n",
    "    # Display dataset info\n",
    "    pop_nc\n",
    "except Exception as e:\n",
    "    print(f\"Error loading population data: {e}\")\n",
    "    print(f\"Please ensure '{pop_path}' exists and is a valid NetCDF file.\")"
   ]
  },
  {
   "cell_type": "markdown",
   "metadata": {},
   "source": [
    "## Calculate Global Death Rate Grid\n",
    "\n",
    "Map country-level death rates to a global grid based on the population data resolution."
   ]
  },
  {
   "cell_type": "code",
   "execution_count": 16,
   "metadata": {},
   "outputs": [
    {
     "name": "stdout",
     "output_type": "stream",
     "text": [
      "Global death rate grid shape: (192, 288)\n"
     ]
    }
   ],
   "source": [
    "# Initialize global death rate array\n",
    "global_death_rate = np.zeros_like(pop_nc['ssp2_2050'].values)\n",
    "print(f\"Global death rate grid shape: {global_death_rate.shape}\")"
   ]
  },
  {
   "cell_type": "code",
   "execution_count": 17,
   "metadata": {},
   "outputs": [
    {
     "name": "stdout",
     "output_type": "stream",
     "text": [
      "Processing latitude 0/192\n",
      "Processing latitude 10/192\n",
      "Processing latitude 20/192\n",
      "Processing latitude 30/192\n",
      "Processing latitude 40/192\n",
      "Processing latitude 50/192\n",
      "Processing latitude 60/192\n",
      "Processing latitude 70/192\n",
      "Processing latitude 80/192\n",
      "Processing latitude 90/192\n",
      "Processing latitude 100/192\n",
      "Processing latitude 110/192\n",
      "Processing latitude 120/192\n",
      "Processing latitude 130/192\n",
      "Processing latitude 140/192\n",
      "Processing latitude 150/192\n",
      "Processing latitude 160/192\n",
      "Processing latitude 170/192\n",
      "Processing latitude 180/192\n",
      "Processing latitude 190/192\n",
      "Completed death rate calculation for all grid cells\n"
     ]
    }
   ],
   "source": [
    "# Calculate death rate for each grid cell\n",
    "# This may take some time to run\n",
    "la = 0\n",
    "for lat in lats:\n",
    "    if la % 10 == 0:  # Print progress every 10 latitude steps\n",
    "        print(f\"Processing latitude {la}/{len(lats)}\")\n",
    "    lo = 0\n",
    "    for lon in lons:\n",
    "        global_death_rate[la, lo] = get_death_rate(death_df, lat, lon, shapefile)\n",
    "        lo += 1\n",
    "    la += 1\n",
    "\n",
    "print(\"Completed death rate calculation for all grid cells\")"
   ]
  },
  {
   "cell_type": "markdown",
   "metadata": {},
   "source": [
    "## Visualize and Save Results\n",
    "\n",
    "Create a visualization of the global death rate grid and save the results to a NetCDF file."
   ]
  },
  {
   "cell_type": "code",
   "execution_count": 21,
   "metadata": {},
   "outputs": [
    {
     "data": {
      "image/png": "[encoded data removed]",
      "text/plain": [
       "<Figure size 1200x600 with 2 Axes>"
      ]
     },
     "metadata": {},
     "output_type": "display_data"
    }
   ],
   "source": [
    "# Visualize the global death rate\n",
    "plt.figure(figsize=(12, 6))\n",
    "plt.pcolormesh(lons, lats, global_death_rate, cmap='Reds')\n",
    "plt.colorbar(label='Death Rate')\n",
    "plt.title('Baseline Death Rate by Location')\n",
    "plt.xlabel('Longitude')\n",
    "plt.ylabel('Latitude')\n",
    "plt.show()"
   ]
  },
  {
   "cell_type": "code",
   "execution_count": 19,
   "metadata": {},
   "outputs": [
    {
     "name": "stdout",
     "output_type": "stream",
     "text": [
      "Saved death rate data to ./smoke_data/death_rate.nc\n"
     ]
    }
   ],
   "source": [
    "# Create a dataset with the death rate data\n",
    "ds = xr.Dataset(\n",
    "    {\n",
    "        'death_rate': (['lat', 'lon'], global_death_rate)\n",
    "    },\n",
    "    coords={\n",
    "        'lat': lats,\n",
    "        'lon': lons\n",
    "    }\n",
    ")\n",
    "\n",
    "# Save to a .nc file\n",
    "output_path = os.path.join(data_dir, 'death_rate.nc')\n",
    "ds.to_netcdf(output_path)\n",
    "print(f\"Saved death rate data to {output_path}\")"
   ]
  },
  {
   "cell_type": "code",
   "execution_count": 20,
   "metadata": {},
   "outputs": [
    {
     "name": "stdout",
     "output_type": "stream",
     "text": [
      "Successfully verified the saved death rate file\n"
     ]
    }
   ],
   "source": [
    "# Verify the saved file\n",
    "try:\n",
    "    f = xr.open_dataset(output_path)\n",
    "    print(f\"Successfully verified the saved death rate file\")\n",
    "    # Display a sample of the values\n",
    "    f['death_rate'].values\n",
    "except Exception as e:\n",
    "    print(f\"Error verifying saved file: {e}\")"
   ]
  }
 ],
 "metadata": {
  "kernelspec": {
   "display_name": "risk",
   "language": "python",
   "name": "python3"
  },
  "language_info": {
   "codemirror_mode": {
    "name": "ipython",
    "version": 3
   },
   "file_extension": ".py",
   "mimetype": "text/x-python",
   "name": "python",
   "nbconvert_exporter": "python",
   "pygments_lexer": "ipython3",
   "version": "3.13.2"
  }
 },
 "nbformat": 4,
 "nbformat_minor": 4
}
